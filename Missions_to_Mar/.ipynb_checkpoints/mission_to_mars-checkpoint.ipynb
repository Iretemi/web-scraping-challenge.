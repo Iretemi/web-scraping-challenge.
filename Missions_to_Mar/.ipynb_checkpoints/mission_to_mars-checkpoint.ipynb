{
 "cells": [
  {
   "cell_type": "code",
   "execution_count": 10,
   "metadata": {},
   "outputs": [],
   "source": [
    "import pandas as pd\n",
    "from splinter import Browser\n",
    "from bs4 import BeautifulSoup as bs"
   ]
  },
  {
   "cell_type": "code",
   "execution_count": 11,
   "metadata": {},
   "outputs": [],
   "source": [
    "browser = Browser('chrome', headless = False)"
   ]
  },
  {
   "cell_type": "code",
   "execution_count": 12,
   "metadata": {},
   "outputs": [],
   "source": [
    "# URL to be scrapped\n",
    "url=browser.visit('https://mars.nasa.gov/news/')"
   ]
  },
  {
   "cell_type": "code",
   "execution_count": null,
   "metadata": {},
   "outputs": [],
   "source": []
  },
  {
   "cell_type": "code",
   "execution_count": 13,
   "metadata": {},
   "outputs": [],
   "source": [
    "soup = bs(browser.html, 'html.parser')"
   ]
  },
  {
   "cell_type": "code",
   "execution_count": 14,
   "metadata": {},
   "outputs": [
    {
     "name": "stdout",
     "output_type": "stream",
     "text": [
      "Title: HiRISE Views NASA's InSight and Curiosity on Mars\n",
      "Para: New images taken from space offer the clearest orbital glimpse yet of InSight as well as a view of Curiosity rolling along.\n"
     ]
    }
   ],
   "source": [
    "news_title = soup.find(\"div\",class_=\"content_title\").text\n",
    "\n",
    "news_paragraph = soup.find(\"div\", class_=\"article_teaser_body\").text\n",
    "print(f\"Title: {news_title}\")\n",
    "print(f\"Para: {news_paragraph}\")\n",
    "# <div class=\"content_title\"><a href=\"/news/8528/hirise-views-nasas-insight-and-curiosity-on-mars/\" target=\"_self\">HiRISE Views NASA's InSight and Curiosity on Mars</a></div>"
   ]
  },
  {
   "cell_type": "markdown",
   "metadata": {},
   "source": [
    "# JPL Mars Space Images - Featured Image"
   ]
  },
  {
   "cell_type": "code",
   "execution_count": 30,
   "metadata": {},
   "outputs": [],
   "source": [
    "url_image = ('https://www.jpl.nasa.gov/spaceimages/?search=planet+Mars&category')\n",
    "browser.visit(url_image)"
   ]
  },
  {
   "cell_type": "code",
   "execution_count": 31,
   "metadata": {},
   "outputs": [
    {
     "name": "stdout",
     "output_type": "stream",
     "text": [
      "https://www.jpl.nasa.gov//spaceimages/images/wallpaper/PIA10413-640x350.jpg\n"
     ]
    }
   ],
   "source": [
    "#Getting the base url\n",
    "image=browser.html\n",
    "soup=bs (image, 'html.parser')\n",
    "image_url = soup.find(\"img\",class_=\"thumb\") ['src']\n",
    "featured_img_url ='https://www.jpl.nasa.gov/'+ image_url\n",
    "print(featured_img_url)"
   ]
  },
  {
   "cell_type": "markdown",
   "metadata": {},
   "source": [
    "# Mars weather getting text from twitter"
   ]
  },
  {
   "cell_type": "code",
   "execution_count": null,
   "metadata": {},
   "outputs": [],
   "source": [
    "browser.visit('https://twitter.com/marswxreport?lang=en')"
   ]
  },
  {
   "cell_type": "code",
   "execution_count": null,
   "metadata": {},
   "outputs": [],
   "source": [
    "soup = bs(browser.html, \"html.parser\")\n",
    "tweet = soup.find(\"p\", class_=\"TweetTextSize TweetTextSize--normal js-tweet-text tweet-text\").text\n",
    "soup[\"tweet\"] = tweet\n",
    "print (tweet)"
   ]
  },
  {
   "cell_type": "code",
   "execution_count": null,
   "metadata": {},
   "outputs": [],
   "source": [
    "# #get image url using BeautifulSoup\n",
    "# html_image = browser.html\n",
    "# soup = BeautifulSoup(html_image, \"html.parser\")\n",
    "# img_url = soup.find (\"img\", class_=\"fancybox-image\")[\"src\"]\n",
    "# # full_img_url = base_url + img_url\n",
    "# # print(full_img_url)"
   ]
  },
  {
   "cell_type": "markdown",
   "metadata": {},
   "source": [
    "Mars fact"
   ]
  },
  {
   "cell_type": "code",
   "execution_count": null,
   "metadata": {},
   "outputs": [],
   "source": [
    "table_url = \"https://space-facts.com/mars/\"\n",
    "mars_facts=pd.read_html(table_url)\n",
    "mars_facts_df=mars_facts [1]\n",
    "mars_facts_df.columns=['Parameter', 'Values']\n",
    "mars_facts_df.set_index('Parameter', inplace=True)\n",
    "mars_facts_df\n"
   ]
  },
  {
   "cell_type": "code",
   "execution_count": null,
   "metadata": {},
   "outputs": [],
   "source": [
    "#html to table string\n",
    "html_table=mars_facts_df.to_html()\n",
    "mars_table_html=html_table.replace('\\n','')\n",
    "mars_table_html"
   ]
  },
  {
   "cell_type": "code",
   "execution_count": null,
   "metadata": {},
   "outputs": [],
   "source": [
    "mars_facts_df.to_html('mars_table.html')\n",
    "! open mars_table.html"
   ]
  },
  {
   "cell_type": "markdown",
   "metadata": {},
   "source": []
  },
  {
   "cell_type": "markdown",
   "metadata": {},
   "source": [
    "# Mars Hemisphere"
   ]
  },
  {
   "cell_type": "code",
   "execution_count": null,
   "metadata": {},
   "outputs": [],
   "source": [
    "url=('https://astrogeology.usgs.gov/search/results?q=hemisphere+enhanced&k1=target&v1=Mars')\n",
    "browser = Browser('chrome', headless=False)\n",
    "browser.visit(url)\n",
    "html = browser.html"
   ]
  },
  {
   "cell_type": "code",
   "execution_count": null,
   "metadata": {},
   "outputs": [],
   "source": [
    "# Mars Hemispheres\n",
    "\n",
    "\n",
    "soup = bs(html, 'html.parser')\n",
    "results = soup.find_all('a', {'class', 'itemLink product-item'})"
   ]
  },
  {
   "cell_type": "code",
   "execution_count": null,
   "metadata": {},
   "outputs": [],
   "source": [
    "links = []\n",
    "for result in results:\n",
    "    link = result.get('href')\n",
    "    links.append ('https://astrogeology.usgs.gov/' + link)\n",
    "    links = list(set(links))\n",
    "    hemisphere_image_urls = [None]*len(links)\n",
    "    visits = 0\n",
    "    for link in links:\n",
    "        url = link\n",
    "        hemisphere = link.split('/')\n",
    "        hemisphere = hemisphere[len(hemisphere)-1]\n",
    "        hemisphere = hemisphere.split('_')\n",
    "        hemisphere_name = hemisphere[0]\n",
    "        if len(hemisphere) > 2:\n",
    "            hemisphere_name = hemisphere_name + ' ' + hemisphere[1]\n",
    "        \n",
    "browser = Browser('chrome', headless=False)\n",
    "browser.visit(url)\n",
    "html = browser.html   \n",
    "soup = bs(html, 'html.parser')\n",
    "results = soup.find_all('div', {'class', 'downloads'})\n",
    "for result in results:\n",
    "    sub_result = result.find_all('li')[0]\n",
    "    jpg_link = sub_result.find('a').get('href')\n",
    "    hemisphere_image_url = {'title': hemisphere_name.capitalize() + ' Hemisphere',\n",
    "                            'img_url': jpg_link}\n",
    "    hemisphere_image_urls[visits] = hemisphere_image_url\n",
    "    visits += 1\n",
    "    results_dict['hemisphere_image_urls'] = hemisphere_image_urls\n",
    "return results_dict"
   ]
  },
  {
   "cell_type": "code",
   "execution_count": null,
   "metadata": {},
   "outputs": [],
   "source": [
    "browser.visit('https://astrogeology.usgs.gov/search/results?q=hemisphere+enhanced&k1=target&v1=Mars')"
   ]
  },
  {
   "cell_type": "code",
   "execution_count": null,
   "metadata": {},
   "outputs": [],
   "source": []
  },
  {
   "cell_type": "code",
   "execution_count": null,
   "metadata": {},
   "outputs": [],
   "source": []
  }
 ],
 "metadata": {
  "kernelspec": {
   "display_name": "Python 3",
   "language": "python",
   "name": "python3"
  },
  "language_info": {
   "codemirror_mode": {
    "name": "ipython",
    "version": 3
   },
   "file_extension": ".py",
   "mimetype": "text/x-python",
   "name": "python",
   "nbconvert_exporter": "python",
   "pygments_lexer": "ipython3",
   "version": "3.7.3"
  }
 },
 "nbformat": 4,
 "nbformat_minor": 2
}
